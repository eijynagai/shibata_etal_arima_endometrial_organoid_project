{
 "cells": [
  {
   "cell_type": "code",
   "execution_count": 2,
   "id": "0af7f007-1e6c-47d2-8450-14f911b64371",
   "metadata": {},
   "outputs": [],
   "source": [
    "import numpy as np\n",
    "import pandas as pd\n",
    "import matplotlib\n",
    "import matplotlib.pyplot as plt\n",
    "import loompy\n",
    "import velocyto as vcy"
   ]
  },
  {
   "cell_type": "code",
   "execution_count": 2,
   "id": "ad8c6591-52f2-4997-a953-2c8937ff4976",
   "metadata": {},
   "outputs": [
    {
     "name": "stderr",
     "output_type": "stream",
     "text": [
      "WARNING:root:╭── 'batch_scan_layers' is deprecated. Use 'scan' instead\n",
      "WARNING:root:╰──> at /opt/conda/lib/python3.9/site-packages/loompy/loompy.py, line 471\n",
      "WARNING:root:╭── 'batch_scan_layers' is deprecated. Use 'scan' instead\n",
      "WARNING:root:╰──> at /opt/conda/lib/python3.9/site-packages/loompy/loompy.py, line 471\n"
     ]
    }
   ],
   "source": [
    "# Combine all RNA velocity files into one\n",
    "loompy.combine([\"/work3/SingleCell/Arima/data/ari_org/EMO6_hor/velocyto/EMO6_hor.loom\",\n",
    "                \"/work3/SingleCell/Arima/data/ari_org/Pre1_con/velocyto/Pre1_con.loom\", \n",
    "                \"/work3/SingleCell/Arima/data/ari_org/Pre1_hor/velocyto/Pre1_hor.loom\"], \n",
    "               \"data/ari_org/ari.merged.loom\", key=\"Accession\")"
   ]
  },
  {
   "cell_type": "code",
   "execution_count": 3,
   "id": "91755b72-3e00-490d-9b7f-2effa4f34b8f",
   "metadata": {},
   "outputs": [
    {
     "data": {
      "text/plain": [
       "'3.0.7'"
      ]
     },
     "execution_count": 3,
     "metadata": {},
     "output_type": "execute_result"
    }
   ],
   "source": [
    "loompy.__version__"
   ]
  },
  {
   "cell_type": "code",
   "execution_count": null,
   "id": "45acb0e6-5079-4f12-aa2d-a35fad68a014",
   "metadata": {},
   "outputs": [],
   "source": []
  }
 ],
 "metadata": {
  "kernelspec": {
   "display_name": "Python 3 (ipykernel)",
   "language": "python",
   "name": "python3"
  },
  "language_info": {
   "codemirror_mode": {
    "name": "ipython",
    "version": 3
   },
   "file_extension": ".py",
   "mimetype": "text/x-python",
   "name": "python",
   "nbconvert_exporter": "python",
   "pygments_lexer": "ipython3",
   "version": "3.9.16"
  }
 },
 "nbformat": 4,
 "nbformat_minor": 5
}
