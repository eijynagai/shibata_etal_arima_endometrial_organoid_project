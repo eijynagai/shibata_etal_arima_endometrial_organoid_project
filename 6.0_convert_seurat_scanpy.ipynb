{
 "cells": [
  {
   "cell_type": "markdown",
   "id": "beff8d63-53e4-4237-861c-6496054a7bad",
   "metadata": {},
   "source": [
    "# Convert files from R seurat to Python scanpy"
   ]
  },
  {
   "cell_type": "code",
   "execution_count": 1,
   "id": "51d7fb06-1cad-45c4-8da8-6917d9a5b1b4",
   "metadata": {},
   "outputs": [],
   "source": [
    "suppressPackageStartupMessages({\n",
    "    library(Seurat)\n",
    "    library(SeuratDisk)\n",
    "    \n",
    "})\n",
    "options(warn=-1)\n",
    "\n",
    "set.seed(23)\n"
   ]
  },
  {
   "cell_type": "code",
   "execution_count": 19,
   "id": "7ff145c4-f874-46b3-a729-f12c0a9a194b",
   "metadata": {},
   "outputs": [
    {
     "data": {
      "text/plain": [
       "An object of class Seurat \n",
       "30279 features across 19401 samples within 1 assay \n",
       "Active assay: RNA (30279 features, 0 variable features)"
      ]
     },
     "metadata": {},
     "output_type": "display_data"
    }
   ],
   "source": [
    "# load RNA (unprocessed is better to avoid dispairment of samples)\n",
    "data <- Read10X(\"data/ari_org/aggr/outs/count/filtered_feature_bc_matrix/\")\n",
    "so <- CreateSeuratObject(counts = data, project = \"ari_org\", min.cells = 3, min.features = 200)\n",
    "so"
   ]
  },
  {
   "cell_type": "code",
   "execution_count": 21,
   "id": "a77b2801-790b-4616-8d4c-1b2ed265fd7c",
   "metadata": {},
   "outputs": [
    {
     "name": "stderr",
     "output_type": "stream",
     "text": [
      "Creating h5Seurat file for version 3.1.5.9900\n",
      "\n",
      "Adding counts for RNA\n",
      "\n",
      "Adding data for RNA\n",
      "\n",
      "No variable features found for RNA\n",
      "\n",
      "No feature-level metadata found for RNA\n",
      "\n",
      "Validating h5Seurat file\n",
      "\n",
      "Adding data from RNA as X\n",
      "\n",
      "Adding counts from RNA as raw\n",
      "\n",
      "Transfering meta.data to obs\n",
      "\n"
     ]
    }
   ],
   "source": [
    "# save the data as H5seurat and then convert to H5ad\n",
    "SaveH5Seurat(so, filename = \"data/ari_org/ari_org_aggr_raw.H5Seurat\", overwrite = TRUE)\n",
    "Convert(\"data/ari_org/ari_org_aggr_raw.H5Seurat\", dest = \"data/ari_org/ari_org_aggr_raw.h5ad\", overwrite = TRUE)"
   ]
  },
  {
   "cell_type": "code",
   "execution_count": 10,
   "id": "60d1a2fc-ffc5-4cc7-9c8c-aba4c6960484",
   "metadata": {},
   "outputs": [],
   "source": [
    "# Read and convert the integrated object\n",
    "so.combined.sct <- readRDS(file = \"data/ari_org/ari_org_integrated.rds\")"
   ]
  },
  {
   "cell_type": "code",
   "execution_count": 12,
   "id": "321dede1-d63c-4d27-a7f4-7b33ef1e73c2",
   "metadata": {},
   "outputs": [],
   "source": [
    "DefaultAssay(object = so.combined.sct) <- \"RNA\""
   ]
  },
  {
   "cell_type": "code",
   "execution_count": 13,
   "id": "5fd48f6d-8328-4cf8-ad18-01b36b09a5f8",
   "metadata": {},
   "outputs": [
    {
     "data": {
      "text/plain": [
       "An object of class Seurat \n",
       "81018 features across 17537 samples within 3 assays \n",
       "Active assay: RNA (29404 features, 0 variable features)\n",
       " 2 other assays present: SCT, integrated\n",
       " 3 dimensional reductions calculated: pca, umap, tsne"
      ]
     },
     "metadata": {},
     "output_type": "display_data"
    },
    {
     "name": "stderr",
     "output_type": "stream",
     "text": [
      "Creating h5Seurat file for version 3.1.5.9900\n",
      "\n",
      "Adding counts for RNA\n",
      "\n",
      "Adding data for RNA\n",
      "\n",
      "No variable features found for RNA\n",
      "\n",
      "No feature-level metadata found for RNA\n",
      "\n",
      "Adding counts for SCT\n",
      "\n",
      "Adding data for SCT\n",
      "\n",
      "Adding scale.data for SCT\n",
      "\n",
      "No variable features found for SCT\n",
      "\n",
      "No feature-level metadata found for SCT\n",
      "\n",
      "Writing out SCTModel.list for SCT\n",
      "\n",
      "Adding data for integrated\n",
      "\n",
      "Adding scale.data for integrated\n",
      "\n",
      "Adding variable features for integrated\n",
      "\n",
      "No feature-level metadata found for integrated\n",
      "\n",
      "Writing out SCTModel.list for integrated\n",
      "\n",
      "Adding cell embeddings for pca\n",
      "\n",
      "Adding loadings for pca\n",
      "\n",
      "No projected loadings for pca\n",
      "\n",
      "Adding standard deviations for pca\n",
      "\n",
      "No JackStraw data for pca\n",
      "\n",
      "Adding cell embeddings for umap\n",
      "\n",
      "No loadings for umap\n",
      "\n",
      "No projected loadings for umap\n",
      "\n",
      "No standard deviations for umap\n",
      "\n",
      "No JackStraw data for umap\n",
      "\n",
      "Adding cell embeddings for tsne\n",
      "\n",
      "No loadings for tsne\n",
      "\n",
      "No projected loadings for tsne\n",
      "\n",
      "No standard deviations for tsne\n",
      "\n",
      "No JackStraw data for tsne\n",
      "\n"
     ]
    }
   ],
   "source": [
    "# Save to h5ad for scanpy/scVelo/etc\n",
    "\n",
    "so.combined.sct\n",
    "SaveH5Seurat(so.combined.sct, filename = \"data/ari_org/ari_org.integrated.h5Seurat\", overwrite = TRUE)"
   ]
  },
  {
   "cell_type": "code",
   "execution_count": 15,
   "id": "ff06decb-c7f1-4193-a61a-af3393282c4f",
   "metadata": {},
   "outputs": [
    {
     "name": "stderr",
     "output_type": "stream",
     "text": [
      "Validating h5Seurat file\n",
      "\n",
      "Adding data from RNA as X\n",
      "\n",
      "Adding counts from RNA as raw\n",
      "\n",
      "Transfering meta.data to obs\n",
      "\n",
      "Adding dimensional reduction information for tsne (global)\n",
      "\n",
      "Adding dimensional reduction information for umap (global)\n",
      "\n"
     ]
    }
   ],
   "source": [
    "# convert to H5ad\n",
    "Convert(\"data/ari_org/ari_org.integrated.h5Seurat\", dest = \"data/ari_org/ari_org.integrated.h5ad\", overwrite = TRUE)"
   ]
  },
  {
   "cell_type": "code",
   "execution_count": 2,
   "id": "4fc883a3-ce8e-4f02-bffb-3b5ee5e3cde7",
   "metadata": {},
   "outputs": [],
   "source": [
    "# Read and convert the integrated object\n",
    "ari_annot.sct <- readRDS(file = \"data/ari_org/ari_org_annotated.rds\")"
   ]
  },
  {
   "cell_type": "code",
   "execution_count": 3,
   "id": "d060673b-84b8-4b47-beff-332f1b0ef16d",
   "metadata": {},
   "outputs": [
    {
     "data": {
      "text/plain": [
       "\n",
       "           NH         LGR5+       Surface       Stromal     Glandular \n",
       "         4009          2389          2710          1657          1654 \n",
       "      PV-like       Luminal Proliferative      Ciliated            10 \n",
       "         1387          1262           816           682           426 \n",
       "         Endo            13 \n",
       "          336           209 "
      ]
     },
     "metadata": {},
     "output_type": "display_data"
    }
   ],
   "source": [
    "DefaultAssay(object = ari_annot.sct) <- \"RNA\"\n",
    "table(ari_annot.sct@meta.data$celltype)"
   ]
  },
  {
   "cell_type": "code",
   "execution_count": 4,
   "id": "ae2fa531-42c2-45aa-ba5c-b0213bcb13b8",
   "metadata": {},
   "outputs": [],
   "source": [
    "ari_annot.sct$cell_id <- ari_annot.sct$celltype"
   ]
  },
  {
   "cell_type": "code",
   "execution_count": 5,
   "id": "f0a0cce0-3f9d-4cf2-89c8-b72b6485420b",
   "metadata": {},
   "outputs": [
    {
     "data": {
      "text/html": [
       "'character'"
      ],
      "text/latex": [
       "'character'"
      ],
      "text/markdown": [
       "'character'"
      ],
      "text/plain": [
       "[1] \"character\""
      ]
     },
     "metadata": {},
     "output_type": "display_data"
    }
   ],
   "source": [
    "# cell type was factor, and it was converted to number in scanpy. so need to make char\n",
    "ari_annot.sct$celltype <- as.character(ari_annot.sct$celltype)\n",
    "class(ari_annot.sct$celltype)"
   ]
  },
  {
   "cell_type": "code",
   "execution_count": 6,
   "id": "8e86e110-2e8d-4982-ad5a-f22d47b23bce",
   "metadata": {},
   "outputs": [
    {
     "data": {
      "text/plain": [
       "\n",
       "           10            13      Ciliated          Endo     Glandular \n",
       "          426           209           682           336          1654 \n",
       "        LGR5+       Luminal            NH Proliferative       PV-like \n",
       "         2389          1262          4009           816          1387 \n",
       "      Stromal       Surface \n",
       "         1657          2710 "
      ]
     },
     "metadata": {},
     "output_type": "display_data"
    }
   ],
   "source": [
    "table(ari_annot.sct$celltype)"
   ]
  },
  {
   "cell_type": "code",
   "execution_count": 7,
   "id": "08f9d444-f500-49f2-bebd-5c3f18ce03c6",
   "metadata": {},
   "outputs": [
    {
     "data": {
      "text/plain": [
       "An object of class Seurat \n",
       "81018 features across 17537 samples within 3 assays \n",
       "Active assay: RNA (29404 features, 0 variable features)\n",
       " 2 other assays present: SCT, integrated\n",
       " 3 dimensional reductions calculated: pca, umap, tsne"
      ]
     },
     "metadata": {},
     "output_type": "display_data"
    },
    {
     "name": "stderr",
     "output_type": "stream",
     "text": [
      "Creating h5Seurat file for version 3.1.5.9900\n",
      "\n",
      "Adding counts for RNA\n",
      "\n",
      "Adding data for RNA\n",
      "\n",
      "No variable features found for RNA\n",
      "\n",
      "No feature-level metadata found for RNA\n",
      "\n",
      "Adding counts for SCT\n",
      "\n",
      "Adding data for SCT\n",
      "\n",
      "Adding scale.data for SCT\n",
      "\n",
      "No variable features found for SCT\n",
      "\n",
      "No feature-level metadata found for SCT\n",
      "\n",
      "Writing out SCTModel.list for SCT\n",
      "\n",
      "Adding data for integrated\n",
      "\n",
      "Adding scale.data for integrated\n",
      "\n",
      "Adding variable features for integrated\n",
      "\n",
      "No feature-level metadata found for integrated\n",
      "\n",
      "Writing out SCTModel.list for integrated\n",
      "\n",
      "Adding cell embeddings for pca\n",
      "\n",
      "Adding loadings for pca\n",
      "\n",
      "No projected loadings for pca\n",
      "\n",
      "Adding standard deviations for pca\n",
      "\n",
      "No JackStraw data for pca\n",
      "\n",
      "Adding cell embeddings for umap\n",
      "\n",
      "No loadings for umap\n",
      "\n",
      "No projected loadings for umap\n",
      "\n",
      "No standard deviations for umap\n",
      "\n",
      "No JackStraw data for umap\n",
      "\n",
      "Adding cell embeddings for tsne\n",
      "\n",
      "No loadings for tsne\n",
      "\n",
      "No projected loadings for tsne\n",
      "\n",
      "No standard deviations for tsne\n",
      "\n",
      "No JackStraw data for tsne\n",
      "\n"
     ]
    }
   ],
   "source": [
    "# Save to h5ad for scanpy/scVelo/etc\n",
    "\n",
    "ari_annot.sct\n",
    "SaveH5Seurat(ari_annot.sct, filename = \"data/ari_org/ari_org.annotated.h5Seurat\", overwrite = TRUE)"
   ]
  },
  {
   "cell_type": "code",
   "execution_count": 8,
   "id": "c6f7d646-0891-495f-8591-f3d1ac2d6412",
   "metadata": {},
   "outputs": [
    {
     "name": "stderr",
     "output_type": "stream",
     "text": [
      "Validating h5Seurat file\n",
      "\n",
      "Adding data from RNA as X\n",
      "\n",
      "Adding counts from RNA as raw\n",
      "\n",
      "Transfering meta.data to obs\n",
      "\n",
      "Adding dimensional reduction information for tsne (global)\n",
      "\n",
      "Adding dimensional reduction information for umap (global)\n",
      "\n"
     ]
    }
   ],
   "source": [
    "# convert to H5ad\n",
    "Convert(\"data/ari_org/ari_org.annotated.h5Seurat\", dest = \"data/ari_org/ari_org.annotated.h5ad\", overwrite = TRUE)"
   ]
  },
  {
   "cell_type": "code",
   "execution_count": 9,
   "id": "2335396d-bac4-435d-97df-c749ebc2bb9d",
   "metadata": {},
   "outputs": [
    {
     "data": {
      "text/plain": [
       "R version 4.2.2 Patched (2022-11-10 r83330)\n",
       "Platform: x86_64-pc-linux-gnu (64-bit)\n",
       "Running under: Ubuntu 20.04.5 LTS\n",
       "\n",
       "Matrix products: default\n",
       "BLAS:   /usr/lib/x86_64-linux-gnu/atlas/libblas.so.3.10.3\n",
       "LAPACK: /usr/lib/x86_64-linux-gnu/atlas/liblapack.so.3.10.3\n",
       "\n",
       "locale:\n",
       " [1] LC_CTYPE=C.UTF-8       LC_NUMERIC=C           LC_TIME=C.UTF-8       \n",
       " [4] LC_COLLATE=C.UTF-8     LC_MONETARY=C.UTF-8    LC_MESSAGES=C.UTF-8   \n",
       " [7] LC_PAPER=C.UTF-8       LC_NAME=C              LC_ADDRESS=C          \n",
       "[10] LC_TELEPHONE=C         LC_MEASUREMENT=C.UTF-8 LC_IDENTIFICATION=C   \n",
       "\n",
       "attached base packages:\n",
       "[1] stats     graphics  grDevices utils     datasets  methods   base     \n",
       "\n",
       "other attached packages:\n",
       "[1] SeuratDisk_0.0.0.9020 SeuratObject_4.1.3    Seurat_4.3.0         \n",
       "\n",
       "loaded via a namespace (and not attached):\n",
       "  [1] Rtsne_0.16             colorspace_2.1-0       deldir_1.0-6          \n",
       "  [4] ellipsis_0.3.2         ggridges_0.5.4         IRdisplay_1.1         \n",
       "  [7] base64enc_0.1-3        spatstat.data_3.0-0    leiden_0.4.3          \n",
       " [10] listenv_0.9.0          bit64_4.0.5            ggrepel_0.9.2         \n",
       " [13] fansi_1.0.4            codetools_0.2-18       splines_4.2.2         \n",
       " [16] polyclip_1.10-4        IRkernel_1.3.1.9000    jsonlite_1.8.4        \n",
       " [19] ica_1.0-3              cluster_2.1.4          png_0.1-8             \n",
       " [22] uwot_0.1.14            shiny_1.7.4            sctransform_0.3.5     \n",
       " [25] spatstat.sparse_3.0-0  compiler_4.2.2         httr_1.4.4            \n",
       " [28] Matrix_1.5-3           fastmap_1.1.0          lazyeval_0.2.2        \n",
       " [31] cli_3.6.1              later_1.3.0            htmltools_0.5.4       \n",
       " [34] tools_4.2.2            igraph_1.4.1           gtable_0.3.3          \n",
       " [37] glue_1.6.2             RANN_2.6.1             reshape2_1.4.4        \n",
       " [40] dplyr_1.1.1            Rcpp_1.0.10            scattermore_0.8       \n",
       " [43] vctrs_0.6.1            spatstat.explore_3.0-6 nlme_3.1-160          \n",
       " [46] progressr_0.13.0       lmtest_0.9-40          spatstat.random_3.1-3 \n",
       " [49] stringr_1.5.0          globals_0.16.2         mime_0.12             \n",
       " [52] miniUI_0.1.1.1         lifecycle_1.0.3        irlba_2.3.5.1         \n",
       " [55] goftest_1.2-3          future_1.30.0          MASS_7.3-58.1         \n",
       " [58] zoo_1.8-11             scales_1.2.1           promises_1.2.0.1      \n",
       " [61] spatstat.utils_3.0-1   parallel_4.2.2         RColorBrewer_1.1-3    \n",
       " [64] reticulate_1.28        pbapply_1.7-0          gridExtra_2.3         \n",
       " [67] ggplot2_3.4.1          stringi_1.7.12         repr_1.1.4            \n",
       " [70] rlang_1.1.0            pkgconfig_2.0.3        matrixStats_0.63.0    \n",
       " [73] evaluate_0.20          lattice_0.20-45        ROCR_1.0-11           \n",
       " [76] purrr_1.0.1            tensor_1.5             patchwork_1.1.2       \n",
       " [79] htmlwidgets_1.6.1      bit_4.0.5              cowplot_1.1.1         \n",
       " [82] tidyselect_1.2.0       parallelly_1.34.0      RcppAnnoy_0.0.20      \n",
       " [85] plyr_1.8.8             magrittr_2.0.3         R6_2.5.1              \n",
       " [88] generics_0.1.3         pbdZMQ_0.3-8           DBI_1.1.3             \n",
       " [91] withr_2.5.0            pillar_1.9.0           fitdistrplus_1.1-8    \n",
       " [94] survival_3.4-0         abind_1.4-5            sp_1.6-0              \n",
       " [97] tibble_3.2.1           future.apply_1.10.0    crayon_1.5.2          \n",
       "[100] hdf5r_1.3.8            uuid_1.1-0             KernSmooth_2.23-20    \n",
       "[103] utf8_1.2.3             spatstat.geom_3.0-5    plotly_4.10.1         \n",
       "[106] grid_4.2.2             data.table_1.14.6      digest_0.6.31         \n",
       "[109] xtable_1.8-4           tidyr_1.3.0            httpuv_1.6.8          \n",
       "[112] munsell_0.5.0          viridisLite_0.4.1     "
      ]
     },
     "metadata": {},
     "output_type": "display_data"
    }
   ],
   "source": [
    "sessionInfo()"
   ]
  },
  {
   "cell_type": "code",
   "execution_count": null,
   "id": "39a8c551-5fa4-4e4e-bb1a-83afae6ab512",
   "metadata": {},
   "outputs": [],
   "source": []
  },
  {
   "cell_type": "code",
   "execution_count": null,
   "id": "2d718e6a-ad62-4bb7-a96c-9436786f1cd4",
   "metadata": {},
   "outputs": [],
   "source": []
  },
  {
   "cell_type": "code",
   "execution_count": null,
   "id": "2629fac9-ff55-49ee-abc0-d4eb830e1666",
   "metadata": {},
   "outputs": [],
   "source": []
  }
 ],
 "metadata": {
  "kernelspec": {
   "display_name": "R",
   "language": "R",
   "name": "ir"
  },
  "language_info": {
   "codemirror_mode": "r",
   "file_extension": ".r",
   "mimetype": "text/x-r-source",
   "name": "R",
   "pygments_lexer": "r",
   "version": "4.2.2"
  }
 },
 "nbformat": 4,
 "nbformat_minor": 5
}
